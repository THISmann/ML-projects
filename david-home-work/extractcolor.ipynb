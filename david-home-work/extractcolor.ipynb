{
 "cells": [
  {
   "cell_type": "code",
   "execution_count": 1,
   "metadata": {},
   "outputs": [
    {
     "name": "stdout",
     "output_type": "stream",
     "text": [
      "Requirement already satisfied: Pillow in /Users/fuhetienne/.pyenv/versions/3.11.6/lib/python3.11/site-packages (10.3.0)\n",
      "Requirement already satisfied: numpy in /Users/fuhetienne/.pyenv/versions/3.11.6/lib/python3.11/site-packages (1.26.3)\n",
      "Note: you may need to restart the kernel to use updated packages.\n"
     ]
    }
   ],
   "source": [
    "pip install Pillow numpy\n"
   ]
  },
  {
   "cell_type": "code",
   "execution_count": 1,
   "metadata": {},
   "outputs": [
    {
     "name": "stdout",
     "output_type": "stream",
     "text": [
      "G-code saved to gcode.gcode\n"
     ]
    }
   ],
   "source": [
    "from PIL import Image\n",
    "import numpy as np\n",
    "\n",
    "def load_and_process_image(image_path):\n",
    "    # Load the image\n",
    "    img = Image.open(image_path).convert('L') # Convert to grayscale\n",
    "    img = img.resize((500, 500), Image.BICUBIC) # Resize using BICUBIC filter\n",
    "    img_array = np.array(img)\n",
    "    \n",
    "    # Normalize the image to a range suitable for G-code (e.g., 0 to 100)\n",
    "    normalized_img = (img_array / 255.0) * 100\n",
    "    \n",
    "    return normalized_img\n",
    "\n",
    "# Ensure the image path is correct\n",
    "image_path = 'img.png' # Update this path if necessary\n",
    "image_data = load_and_process_image(image_path)\n",
    "\n",
    "def image_to_gcode(image_data):\n",
    "    gcode = []\n",
    "    for y in range(image_data.shape[0]):\n",
    "        for x in range(image_data.shape[1]):\n",
    "            # Assuming a simple engraving pattern where darker pixels are engraved deeper\n",
    "            depth = image_data[y, x]\n",
    "            if depth > 0: # Only engrave if the pixel is not black\n",
    "                gcode.append(f\"G1 X{x} Y{y} Z{depth}\")\n",
    "    return gcode\n",
    "\n",
    "gcode_commands = image_to_gcode(image_data)\n",
    "\n",
    "def save_gcode_to_file(gcode_commands, file_path):\n",
    "    try:\n",
    "        with open(file_path, 'w') as f:\n",
    "            for command in gcode_commands:\n",
    "                f.write(command + '\\n')\n",
    "        print(f\"G-code saved to {file_path}\")\n",
    "    except Exception as e:\n",
    "        print(f\"Error saving G-code to file: {e}\")\n",
    "\n",
    "# Ensure the file path is correct and you have write permissions\n",
    "gcode_file_path = 'gcode.gcode' # Update this path if necessary\n",
    "save_gcode_to_file(gcode_commands, gcode_file_path)\n"
   ]
  },
  {
   "cell_type": "code",
   "execution_count": null,
   "metadata": {},
   "outputs": [],
   "source": []
  },
  {
   "cell_type": "code",
   "execution_count": null,
   "metadata": {},
   "outputs": [],
   "source": []
  }
 ],
 "metadata": {
  "kernelspec": {
   "display_name": "Python 3 (ipykernel)",
   "language": "python",
   "name": "python3"
  },
  "language_info": {
   "codemirror_mode": {
    "name": "ipython",
    "version": 3
   },
   "file_extension": ".py",
   "mimetype": "text/x-python",
   "name": "python",
   "nbconvert_exporter": "python",
   "pygments_lexer": "ipython3",
   "version": "3.11.6"
  }
 },
 "nbformat": 4,
 "nbformat_minor": 2
}
