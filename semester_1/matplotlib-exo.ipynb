{
 "cells": [
  {
   "cell_type": "code",
   "execution_count": 6,
   "id": "ed21d4b4",
   "metadata": {},
   "outputs": [
    {
     "data": {
      "image/png": "[encoded data removed]",
      "text/plain": [
       "<Figure size 640x480 with 1 Axes>"
      ]
     },
     "metadata": {},
     "output_type": "display_data"
    }
   ],
   "source": [
    "import matplotlib.pyplot as plt\n",
    "import matplotlib.patches as patches\n",
    "import random\n",
    "\n",
    "# Создаем новую фигуру и оси\n",
    "fig, ax = plt.subplots()\n",
    "\n",
    "# Задаем черный фон\n",
    "fig.patch.set_facecolor('white')\n",
    "\n",
    "# Задаем параметры для создания \"городских зданий\"\n",
    "building_width = 100\n",
    "min_height = 100\n",
    "max_height = 800\n",
    "spacing = 10\n",
    "\n",
    "# Создаем звездное небо\n",
    "for _ in range(2000):  # число звезд\n",
    "    star_x = random.uniform(0, 1000)  # случайное положение по оси X\n",
    "    star_y = random.uniform(max_height, 1000)  # случайное положение по оси Y\n",
    "    star = patches.Circle((star_x, star_y), 2, color='white')\n",
    "    ax.add_patch(star)\n",
    "\n",
    "# Создаем здания\n",
    "for x in range(0, 1000, building_width + spacing):\n",
    "    # Выбираем случайную высоту для здания\n",
    "    building_height = random.randint(min_height, max_height)\n",
    "\n",
    "    # Создаем здание\n",
    "    big_rect = patches.Rectangle((x, 0), building_width, building_height, facecolor='orange')\n",
    "\n",
    "    # Добавляем здание на график\n",
    "    ax.add_patch(big_rect)\n",
    "\n",
    "    # Заполняем здание маленькими прямоугольниками\n",
    "    for i in range(x + 10, x + building_width - 10, 20):\n",
    "        for j in range(20, building_height - 10, 20):\n",
    "            small_rect = patches.Rectangle((i, j), 10, 10, facecolor='red')\n",
    "            ax.add_patch(small_rect)\n",
    "\n",
    "# Устанавливаем пределы отображения\n",
    "plt.xlim([0, 1000])\n",
    "plt.ylim([0, 1000])\n",
    "\n",
    "# Убираем отображение координат\n",
    "ax.axis('on')\n",
    "\n",
    "# Отображаем график\n",
    "plt.show()"
   ]
  },
  {
   "cell_type": "code",
   "execution_count": null,
   "id": "d3340d81",
   "metadata": {},
   "outputs": [],
   "source": []
  }
 ],
 "metadata": {
  "kernelspec": {
   "display_name": "Python 3 (ipykernel)",
   "language": "python",
   "name": "python3"
  },
  "language_info": {
   "codemirror_mode": {
    "name": "ipython",
    "version": 3
   },
   "file_extension": ".py",
   "mimetype": "text/x-python",
   "name": "python",
   "nbconvert_exporter": "python",
   "pygments_lexer": "ipython3",
   "version": "3.10.9"
  }
 },
 "nbformat": 4,
 "nbformat_minor": 5
}
