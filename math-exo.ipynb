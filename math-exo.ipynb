{
 "cells": [
  {
   "cell_type": "code",
   "execution_count": null,
   "id": "15bacee4",
   "metadata": {},
   "outputs": [],
   "source": [
    "import math\n",
    "\n",
    "xn=1.1\n",
    "xk=2.2\n",
    "h=0.1\n",
    "n=int ((xk-xn)/h+1)\n",
    "for m in range(1,n+1,1):\n",
    "    s1=0\n",
    "    for i in range(1,3,1):\n",
    "        p=1\n",
    "        for j in range(i,4,1):\n",
    "            s3=0\n",
    "            eps=1e-5\n",
    "            k=0\n",
    "            y=1\n",
    "            while abs(y)>=eps:\n",
    "                if(i+k)%2 !=0:\n",
    "                    y= (0.1+xn**(xn+k))/math.factorial(k+3)\n",
    "                else:\n",
    "                    y=xn**(i+j+k)/math.factorial(k)\n",
    "                    k+=1\n",
    "                    s3+=y\n",
    "                    p*=s3\n",
    "        s1+=math.pi+p\n",
    "        print(\"x=:5.3f f(x)=:5.3f\".format(xn, math.log(s1)))\n",
    "        xn+=h"
   ]
  },
  {
   "cell_type": "code",
   "execution_count": 3,
   "id": "5d3f7042",
   "metadata": {},
   "outputs": [
    {
     "name": "stdout",
     "output_type": "stream",
     "text": [
      "xn:3.000 y=5.494\n",
      "xn:3.200 y=3.831\n",
      "xn:3.400 y=1.988\n",
      "xn:3.600 y=1.839\n",
      "xn:3.800 y=3.001\n",
      "xn:4.000 y=7.307\n",
      "xn:4.200 y=2.343\n",
      "xn:4.400 y=2.059\n",
      "xn:4.600 y=4.530\n",
      "xn:4.800 y=3.894\n",
      "xn:5.000 y=2.131\n"
     ]
    },
    {
     "data": {
      "image/png": "[encoded data removed]",
      "text/plain": [
       "<Figure size 640x480 with 1 Axes>"
      ]
     },
     "metadata": {},
     "output_type": "display_data"
    }
   ],
   "source": [
    "import math\n",
    "import numpy as np\n",
    "import matplotlib.pyplot as plt\n",
    "\n",
    "xn = 3\n",
    "xk = 5\n",
    "hx = 0.2\n",
    "a = 1.9\n",
    "b = 1.1\n",
    "\n",
    "n = int((xk - xn) / hx + 1)\n",
    "\n",
    "for i in range(1, n+1, 1):\n",
    "    y = math.sqrt((a*xn)/(b+math.cos(xn**2)))\n",
    "    print(\"xn:{:5.3f} y={:5.3f}\".format(xn, y))\n",
    "    xn += hx\n",
    "\n",
    "x = np.arange(3, 5+hx, hx)\n",
    "y = np.sqrt((a*x)/(b+np.cos(x**2)))\n",
    "\n",
    "plt.plot(x, y)\n",
    "plt.grid(True)\n",
    "plt.xlabel('x')\n",
    "plt.ylabel('y')\n",
    "plt.show()"
   ]
  },
  {
   "cell_type": "code",
   "execution_count": null,
   "id": "8e073f7c",
   "metadata": {},
   "outputs": [],
   "source": [
    "import math\n",
    "\n",
    "xn = 1.1\n",
    "xk = 2.2\n",
    "h = 0.1\n",
    "n = int((xk - xn) / h + 1)\n",
    "for m in range(1, n+1 , 1):\n",
    "    s1 = 0\n",
    "    for i in range(1, 3):\n",
    "        p = 1\n",
    "        for j in range(i, 4):\n",
    "            s3 = 0\n",
    "            eps = 1e-5\n",
    "            k = 0\n",
    "            y = 1\n",
    "            while abs(y) >= eps:\n",
    "                if (i + k) % 2 != 0:\n",
    "                    y = (0.1 + xn**(xn + k)) / math.factorial(k + 3)\n",
    "                else:\n",
    "                    y = xn**(i + j + k) / math.factorial(k)\n",
    "                    k += 1\n",
    "                    s3 += y\n",
    "                    p *= s3\n",
    "        s1 += math.pi + p\n",
    "    print(\"x={:5.3f} f(x)={:5.3f}\".format(xn, math.log(s1)))\n",
    "    xn += h"
   ]
  },
  {
   "cell_type": "code",
   "execution_count": null,
   "id": "19bbf2e1",
   "metadata": {},
   "outputs": [],
   "source": [
    "import math\n",
    "\n",
    "xn = 1.1\n",
    "xk = 2.2\n",
    "h = 0.1\n",
    "n = int((xk - xn) / h + 1)\n",
    "\n",
    "for m in range(1, n + 1):\n",
    "    s1 = 0\n",
    "    for i in range(1, 3):\n",
    "        p = 1\n",
    "        for j in range(i, 4):\n",
    "            s3 = 0\n",
    "            eps = 1e-5\n",
    "            k = 0\n",
    "            y = 1\n",
    "            while abs(y) >= eps:\n",
    "                if (i + k) % 2 != 0:\n",
    "                    y = (0.1 + (xn + m * h)**(i + k)) / math.factorial(k + 3)\n",
    "                else:\n",
    "                    y = (xn + m * h)**(i + j + k) / math.factorial(k)\n",
    "                    k += 1\n",
    "                    s3 += y\n",
    "            p *= s3\n",
    "        s1 += math.pi + p\n",
    "    print(\"x={:5.3f} f(x)={:5.3f}\".format(xn + m * h, math.log(s1)))\n"
   ]
  },
  {
   "cell_type": "code",
   "execution_count": null,
   "id": "f2160842",
   "metadata": {},
   "outputs": [],
   "source": []
  }
 ],
 "metadata": {
  "kernelspec": {
   "display_name": "Python 3 (ipykernel)",
   "language": "python",
   "name": "python3"
  },
  "language_info": {
   "codemirror_mode": {
    "name": "ipython",
    "version": 3
   },
   "file_extension": ".py",
   "mimetype": "text/x-python",
   "name": "python",
   "nbconvert_exporter": "python",
   "pygments_lexer": "ipython3",
   "version": "3.10.9"
  }
 },
 "nbformat": 4,
 "nbformat_minor": 5
}
