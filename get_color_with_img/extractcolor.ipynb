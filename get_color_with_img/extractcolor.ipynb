{
 "cells": [
  {
   "cell_type": "code",
   "execution_count": 4,
   "metadata": {},
   "outputs": [
    {
     "name": "stdout",
     "output_type": "stream",
     "text": [
      "Dominant Color (BGR): [55 79 99]\n"
     ]
    }
   ],
   "source": [
    "import cv2\n",
    "import numpy as np\n",
    "\n",
    "def extract_dominant_color(image_path, k=1):\n",
    "    # Read the image\n",
    "    image = cv2.imread(image_path)\n",
    "\n",
    "    # Reshape the image to a 2D array of pixels\n",
    "    pixels = image.reshape((-1, 3))\n",
    "\n",
    "    # Convert the pixels to float\n",
    "    pixels = np.float32(pixels)\n",
    "\n",
    "    # Define criteria and apply kmeans()\n",
    "    criteria = (cv2.TERM_CRITERIA_EPS + cv2.TERM_CRITERIA_MAX_ITER, 100, 0.2)\n",
    "    _, labels, centers = cv2.kmeans(pixels, k, None, criteria, 10, cv2.KMEANS_RANDOM_CENTERS)\n",
    "\n",
    "    # Convert back to 8-bit values\n",
    "    centers = np.uint8(centers)\n",
    "\n",
    "    # Find the dominant color\n",
    "    dominant_color = centers[np.argmax(np.unique(labels, return_counts=True)[1])]\n",
    "\n",
    "    return dominant_color\n",
    "\n",
    "def main():\n",
    "    image_path = './img2.png'\n",
    "    dominant_color = extract_dominant_color(image_path)\n",
    "\n",
    "    print(\"Dominant Color (BGR):\", dominant_color)\n",
    "\n",
    "if __name__ == \"__main__\":\n",
    "    main()\n"
   ]
  },
  {
   "cell_type": "code",
   "execution_count": 7,
   "metadata": {},
   "outputs": [
    {
     "name": "stdout",
     "output_type": "stream",
     "text": [
      "<class 'numpy.ndarray'>\n"
     ]
    }
   ],
   "source": [
    "import cv2\n",
    "\n",
    "def bgr_to_rgb(image_bgr):\n",
    "    # Convert BGR to RGB\n",
    "    image_rgb = cv2.cvtColor(image_bgr, cv2.COLOR_BGR2RGB)\n",
    "    return image_rgb\n",
    "\n",
    "# Example usage\n",
    "image_path = \"img2.png\"\n",
    "image_bgr = cv2.imread(image_path)\n",
    "\n",
    "# Convert BGR to RGB\n",
    "image_rgb = bgr_to_rgb(image_bgr)\n",
    "print(image_rgb[-1])\n",
    "\n",
    "# Now 'image_rgb' contains the RGB version of the image\n"
   ]
  }
 ],
 "metadata": {
  "kernelspec": {
   "display_name": "Python 3 (ipykernel)",
   "language": "python",
   "name": "python3"
  },
  "language_info": {
   "codemirror_mode": {
    "name": "ipython",
    "version": 3
   },
   "file_extension": ".py",
   "mimetype": "text/x-python",
   "name": "python",
   "nbconvert_exporter": "python",
   "pygments_lexer": "ipython3",
   "version": "3.10.9"
  }
 },
 "nbformat": 4,
 "nbformat_minor": 2
}
