{
 "cells": [
  {
   "cell_type": "code",
   "execution_count": 89,
   "metadata": {},
   "outputs": [
    {
     "name": "stdout",
     "output_type": "stream",
     "text": [
      "Random Array: [139  30  22]\n"
     ]
    }
   ],
   "source": [
    "import cv2\n",
    "\n",
    "def bgr_to_rgb(image_path):\n",
    "    # Convert BGR to RGB\n",
    "    image_bgr = cv2.imread(image_path)\n",
    "    image_rgb = cv2.cvtColor(image_bgr, cv2.COLOR_BGR2RGB)\n",
    "    return image_rgb[0]\n",
    "\n",
    "def print_random_array(numpy_array):\n",
    "    # Get a random index along the first axis\n",
    "    random_index = np.random.randint(0, numpy_array.shape[0])\n",
    "\n",
    "    # Get the corresponding random array\n",
    "    random_array = numpy_array[random_index]\n",
    "    return random_array\n",
    "\n",
    "print(\"Random Array:\", print_random_array(bgr_to_rgb(\"img6.png\")))\n",
    " \n",
    "\n",
    "# print((bgr_to_rgb(\"img6.png\")))\n",
    "\n",
    "# Now 'image_rgb' contains the RGB version of the image\n"
   ]
  }
 ],
 "metadata": {
  "kernelspec": {
   "display_name": "Python 3 (ipykernel)",
   "language": "python",
   "name": "python3"
  },
  "language_info": {
   "codemirror_mode": {
    "name": "ipython",
    "version": 3
   },
   "file_extension": ".py",
   "mimetype": "text/x-python",
   "name": "python",
   "nbconvert_exporter": "python",
   "pygments_lexer": "ipython3",
   "version": "3.10.9"
  }
 },
 "nbformat": 4,
 "nbformat_minor": 2
}
