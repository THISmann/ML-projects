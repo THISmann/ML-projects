{
 "cells": [
  {
   "cell_type": "code",
   "execution_count": 15,
   "metadata": {},
   "outputs": [
    {
     "name": "stdout",
     "output_type": "stream",
     "text": [
      "det de a est = 8\n",
      "det de XA = 8\n",
      "det de X = 1.0\n",
      "le det de YA est -80\n",
      "det de Y = -10.0\n",
      "le det de Za est -40\n",
      "det de Z = -5.0\n"
     ]
    }
   ],
   "source": [
    "import numpy as np\n",
    "# 2x -2y + 2z = 12\n",
    "# 2x + 2y -2z = -8\n",
    "# 2x - y + 2z = 2\n",
    "\n",
    "a = np.array([[2, -2, 2],\n",
    "             [2, 2, -2],\n",
    "             [2, -1, 2]])\n",
    "\n",
    "detA = round(np.linalg.det(a))\n",
    "print(f\"det de a est = {detA}\")\n",
    "\n",
    "# calcul de la det de x\n",
    "Xa = np.array([[12, -2, 2],\n",
    "               [-8, 2, -2],\n",
    "               [2, -1, 2]])\n",
    "detXa = round(np.linalg.det(Xa))\n",
    "print(f\"det de XA = {detXa}\")\n",
    "print(f\"det de X = {detXa/detA}\")\n",
    "\n",
    "# calcul du det de y\n",
    "Ya = np.array([[2, 12, 2],\n",
    "               [2, -8, -2],\n",
    "               [2, 2, 2]])\n",
    "detYa = round(np.linalg.det(Ya))\n",
    "print(f\"le det de YA est {detYa}\")\n",
    "print(f\"det de Y = {detYa/detA}\")\n",
    "\n",
    "# calcul du det de Z\n",
    "Za = np.array([[2, -2, 12],\n",
    "               [2, 2, -8],\n",
    "               [2, -1, 2]])\n",
    "detZa = round(np.linalg.det(Za))\n",
    "print(f\"le det de Za est {detZa}\")\n",
    "print(f\"det de Z = {detZa/detA}\")"
   ]
  },
  {
   "cell_type": "code",
   "execution_count": null,
   "metadata": {},
   "outputs": [],
   "source": [
    "import numpy as np\n",
    "#3 équations avec 3 inconnus avec la méthode de Cramer\n",
    "#2x+y-2z=-3\n",
    "#x+4y-2z=4\n",
    "#3x-y+z=8\n",
    "\n",
    "#La matrice ne doit pas avoir de déterminant = 0\n",
    "#2 1 -2\n",
    "#1 4 -2\n",
    "#3 1 5\n",
    "a = np.array([[2,1,-2],\n",
    "              [1,4,-2],\n",
    "              [3,-1,1]])\n",
    "#Déterminant de A\n",
    "determinantA = np.linalg.det(a)\n",
    "print(f\"Déterminant de a est {determinantA} et est différent de 0\")\n",
    "\n",
    "#Pour trouver X\n",
    "xa = np.array([[-3,1,-2],\n",
    "               [4,4,-2],\n",
    "               [8,-1,1]])\n",
    "\n",
    "#Déterminant de XA\n",
    "determinantXA = np.linalg.det(xa)\n",
    "print(f\"Déterminant de xa est {round(determinantXA)}\")\n",
    "print(f'La valeur de X est xa/a : {round(determinantXA/determinantA)}')\n",
    "\n",
    "#Pour trouver Y\n",
    "ya = np.array([[2,-3,-2],\n",
    "              [1,4,-2],\n",
    "              [3,8,1]])\n",
    "#Déterminant de YA\n",
    "determinantYA = np.linalg.det(ya)\n",
    "print(f\"Déterminant de ya est {round(determinantYA)}\")\n",
    "print(f'La valeur de Y est ya/a : {round(determinantYA/determinantA)}')\n",
    "\n",
    "#Pour trouver Z\n",
    "za = np.array([[2,1,-3],\n",
    "              [1,4,4],\n",
    "              [3,-1,8]])\n",
    "#Déterminant de ZA\n",
    "determinantZA = np.linalg.det(za)\n",
    "print(f\"Déterminant de za est {round(determinantZA)}\")\n",
    "print(f'La valeur de Z est za/a : {round(determinantZA/determinantA)}')\n"
   ]
  },
  {
   "cell_type": "code",
   "execution_count": 33,
   "metadata": {},
   "outputs": [
    {
     "data": {
      "text/plain": [
       "array([[1., 1., 0., 0.],\n",
       "       [1., 1., 0., 0.],\n",
       "       [1., 1., 0., 0.]])"
      ]
     },
     "execution_count": 33,
     "metadata": {},
     "output_type": "execute_result"
    }
   ],
   "source": [
    "import numpy as np\n",
    "A = np.array([1,2,3])\n",
    "A.shape  \n",
    "\n",
    "B = np.zeros([3,2])\n",
    "B\n",
    "\n",
    "C = np.ones([3,2])\n",
    "C\n",
    "\n",
    "D = np.random.randn(3,4)\n",
    "D\n",
    "\n",
    "E = np.eye(4)\n",
    "E\n",
    "\n",
    "np.concatenate((C,B), axis=1)"
   ]
  },
  {
   "cell_type": "code",
   "execution_count": 40,
   "metadata": {},
   "outputs": [
    {
     "name": "stdout",
     "output_type": "stream",
     "text": [
      "Huey Dunbar - Con Cada Beso - Salsa - Salsa\n"
     ]
    }
   ],
   "source": [
    "import requests\n",
    "\n",
    "url = \"https://ecmanager.pro-fhi.net:1510/currentsong?sid=1\" \n",
    "\n",
    "req = requests.get(url)\n",
    "print(req.text)\n"
   ]
  }
 ],
 "metadata": {
  "kernelspec": {
   "display_name": "Python 3 (ipykernel)",
   "language": "python",
   "name": "python3"
  },
  "language_info": {
   "codemirror_mode": {
    "name": "ipython",
    "version": 3
   },
   "file_extension": ".py",
   "mimetype": "text/x-python",
   "name": "python",
   "nbconvert_exporter": "python",
   "pygments_lexer": "ipython3",
   "version": "3.10.9"
  }
 },
 "nbformat": 4,
 "nbformat_minor": 2
}
