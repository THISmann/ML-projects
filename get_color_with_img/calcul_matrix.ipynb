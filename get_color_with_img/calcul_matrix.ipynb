{
 "cells": [
  {
   "cell_type": "code",
   "execution_count": 15,
   "metadata": {},
   "outputs": [
    {
     "name": "stdout",
     "output_type": "stream",
     "text": [
      "det de a est = 8\n",
      "det de XA = 8\n",
      "det de X = 1.0\n",
      "le det de YA est -80\n",
      "det de Y = -10.0\n",
      "le det de Za est -40\n",
      "det de Z = -5.0\n"
     ]
    }
   ],
   "source": [
    "import numpy as np\n",
    "# 2x -2y + 2z = 12\n",
    "# 2x + 2y -2z = -8\n",
    "# 2x - y + 2z = 2\n",
    "\n",
    "a = np.array([[2, -2, 2],\n",
    "             [2, 2, -2],\n",
    "             [2, -1, 2]])\n",
    "\n",
    "detA = round(np.linalg.det(a))\n",
    "print(f\"det de a est = {detA}\")\n",
    "\n",
    "# calcul de la det de x\n",
    "Xa = np.array([[12, -2, 2],\n",
    "               [-8, 2, -2],\n",
    "               [2, -1, 2]])\n",
    "detXa = round(np.linalg.det(Xa))\n",
    "print(f\"det de XA = {detXa}\")\n",
    "print(f\"det de X = {detXa/detA}\")\n",
    "\n",
    "# calcul du det de y\n",
    "Ya = np.array([[2, 12, 2],\n",
    "               [2, -8, -2],\n",
    "               [2, 2, 2]])\n",
    "detYa = round(np.linalg.det(Ya))\n",
    "print(f\"le det de YA est {detYa}\")\n",
    "print(f\"det de Y = {detYa/detA}\")\n",
    "\n",
    "# calcul du det de Z\n",
    "Za = np.array([[2, -2, 12],\n",
    "               [2, 2, -8],\n",
    "               [2, -1, 2]])\n",
    "detZa = round(np.linalg.det(Za))\n",
    "print(f\"le det de Za est {detZa}\")\n",
    "print(f\"det de Z = {detZa/detA}\")"
   ]
  },
  {
   "cell_type": "code",
   "execution_count": null,
   "metadata": {},
   "outputs": [],
   "source": []
  },
  {
   "cell_type": "code",
   "execution_count": null,
   "metadata": {},
   "outputs": [],
   "source": []
  }
 ],
 "metadata": {
  "kernelspec": {
   "display_name": "Python 3 (ipykernel)",
   "language": "python",
   "name": "python3"
  },
  "language_info": {
   "codemirror_mode": {
    "name": "ipython",
    "version": 3
   },
   "file_extension": ".py",
   "mimetype": "text/x-python",
   "name": "python",
   "nbconvert_exporter": "python",
   "pygments_lexer": "ipython3",
   "version": "3.10.9"
  }
 },
 "nbformat": 4,
 "nbformat_minor": 2
}
